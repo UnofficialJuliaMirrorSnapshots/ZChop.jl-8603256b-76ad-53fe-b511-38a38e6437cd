{
 "cells": [
  {
   "cell_type": "markdown",
   "metadata": {},
   "source": [
    "# ZChop\n",
    "\n",
    "*Replace small numbers with zero*\n",
    "\n",
    "`zchop(x)` replaces numbers in `x` that are close to zero with zero.\n",
    "\n",
    "```zchop(x)``` returns 0 if abs(x) is smaller than 1e-14, and x otherwise.\n",
    "\n",
    "```zchop(x,eps)``` uses eps rather than 1e-14\n",
    "\n",
    "```zchop!(a,eps)``` works inplace on Array a.\n"
   ]
  },
  {
   "cell_type": "markdown",
   "metadata": {},
   "source": [
    "### Examples\n"
   ]
  },
  {
   "cell_type": "markdown",
   "metadata": {},
   "source": [
    "### Example 1: Inverse Fourier transform\n",
    "\n",
    "(If FFTW is not installed, you can install it with `Pkg.add(\"FFTW\")`)\n",
    "\n",
    "Performing the discrete Fourier transform of a real sequence, followed by the inverse transform returns a complex array. Due to limited numerical accuracy, some numbers that should be zero are instead very close to zero."
   ]
  },
  {
   "cell_type": "code",
   "execution_count": 1,
   "metadata": {
    "collapsed": false
   },
   "outputs": [
    {
     "data": {
      "text/plain": [
       "7-element Array{Complex{Float64},1}:\n",
       "                    2.0 + 0.0im\n",
       "                    1.0 + 0.0im\n",
       "                    1.0 + 0.0im\n",
       "  1.527827807198305e-17 + 0.0im\n",
       "  5.727136726909545e-18 + 0.0im\n",
       "                    0.0 + 0.0im\n",
       " -6.344131569286608e-17 + 0.0im"
      ]
     },
     "execution_count": 1,
     "metadata": {},
     "output_type": "execute_result"
    }
   ],
   "source": [
    "using FFTW\n",
    "real_sequence = [2,1,1,0,0,0,0]\n",
    "result = real_sequence |> fft |> ifft"
   ]
  },
  {
   "cell_type": "markdown",
   "metadata": {},
   "source": [
    "Load the `ZChop` package, and replace these small numbers with `0`"
   ]
  },
  {
   "cell_type": "code",
   "execution_count": 2,
   "metadata": {
    "collapsed": false
   },
   "outputs": [
    {
     "data": {
      "text/plain": [
       "7-element Array{Complex{Float64},1}:\n",
       " 2.0 + 0.0im\n",
       " 1.0 + 0.0im\n",
       " 1.0 + 0.0im\n",
       " 0.0 + 0.0im\n",
       " 0.0 + 0.0im\n",
       " 0.0 + 0.0im\n",
       " 0.0 + 0.0im"
      ]
     },
     "execution_count": 2,
     "metadata": {},
     "output_type": "execute_result"
    }
   ],
   "source": [
    "using ZChop\n",
    "zchop(result)"
   ]
  },
  {
   "cell_type": "markdown",
   "metadata": {},
   "source": [
    "Trying to directly convert the result to an array of integers fails."
   ]
  },
  {
   "cell_type": "code",
   "execution_count": 3,
   "metadata": {
    "collapsed": false
   },
   "outputs": [
    {
     "ename": "LoadError",
     "evalue": "InexactError: Int64(Int64, 1.527827807198305e-17)",
     "output_type": "error",
     "traceback": [
      "InexactError: Int64(Int64, 1.527827807198305e-17)",
      "",
      "Stacktrace:",
      " [1] Type at ./float.jl:700 [inlined]",
      " [2] Int64(::Complex{Float64}) at ./complex.jl:37",
      " [3] convert at ./number.jl:7 [inlined]",
      " [4] setindex! at ./array.jl:769 [inlined]",
      " [5] getindex(::Type{Int64}, ::Complex{Float64}, ::Complex{Float64}, ::Complex{Float64}, ::Complex{Float64}, ::Vararg{Complex{Float64},N} where N) at ./array.jl:360",
      " [6] top-level scope at none:0"
     ]
    }
   ],
   "source": [
    "Int[result...]"
   ]
  },
  {
   "cell_type": "markdown",
   "metadata": {},
   "source": [
    "But, we can do it with `zchop`."
   ]
  },
  {
   "cell_type": "code",
   "execution_count": 4,
   "metadata": {
    "collapsed": false
   },
   "outputs": [
    {
     "data": {
      "text/plain": [
       "7-element Array{Int64,1}:\n",
       " 2\n",
       " 1\n",
       " 1\n",
       " 0\n",
       " 0\n",
       " 0\n",
       " 0"
      ]
     },
     "execution_count": 4,
     "metadata": {},
     "output_type": "execute_result"
    }
   ],
   "source": [
    "Int[zchop(result)...]"
   ]
  },
  {
   "cell_type": "markdown",
   "metadata": {},
   "source": [
    "### Example 2"
   ]
  },
  {
   "cell_type": "code",
   "execution_count": 5,
   "metadata": {
    "collapsed": false
   },
   "outputs": [
    {
     "data": {
      "text/plain": [
       "4-element Array{Complex{Float64},1}:\n",
       " -1.0 + 1.2246467991473532e-16im\n",
       "  1.0 - 2.4492935982947064e-16im\n",
       " -1.0 + 3.6739403974420594e-16im\n",
       "  1.0 - 4.898587196589413e-16im "
      ]
     },
     "execution_count": 5,
     "metadata": {},
     "output_type": "execute_result"
    }
   ],
   "source": [
    "result = exp.(range(1, stop=4, length=4) * pi * im)"
   ]
  },
  {
   "cell_type": "code",
   "execution_count": 6,
   "metadata": {
    "collapsed": false
   },
   "outputs": [
    {
     "data": {
      "text/plain": [
       "4-element Array{Int64,1}:\n",
       " -1\n",
       "  1\n",
       " -1\n",
       "  1"
      ]
     },
     "execution_count": 6,
     "metadata": {},
     "output_type": "execute_result"
    }
   ],
   "source": [
    "Int[zchop(result)...]"
   ]
  },
  {
   "cell_type": "markdown",
   "metadata": {},
   "source": [
    "### Example 3"
   ]
  },
  {
   "cell_type": "code",
   "execution_count": 7,
   "metadata": {
    "collapsed": false
   },
   "outputs": [
    {
     "data": {
      "text/plain": [
       "2×2 SparseMatrixCSC{Float64,Int64} with 4 stored entries:\n",
       "  [1, 1]  =  1.0\n",
       "  [2, 1]  =  1.0e-16\n",
       "  [1, 2]  =  1.0e-16\n",
       "  [2, 2]  =  1.0"
      ]
     },
     "execution_count": 7,
     "metadata": {},
     "output_type": "execute_result"
    }
   ],
   "source": [
    "using SparseArrays\n",
    "a = sparse([ [1.0,1e-16]  [1e-16, 1.0]])"
   ]
  },
  {
   "cell_type": "code",
   "execution_count": 8,
   "metadata": {
    "collapsed": false
   },
   "outputs": [
    {
     "data": {
      "text/plain": [
       "2×2 SparseMatrixCSC{Float64,Int64} with 2 stored entries:\n",
       "  [1, 1]  =  1.0\n",
       "  [2, 2]  =  1.0"
      ]
     },
     "execution_count": 8,
     "metadata": {},
     "output_type": "execute_result"
    }
   ],
   "source": [
    "dropzeros(zchop(a))"
   ]
  },
  {
   "cell_type": "markdown",
   "metadata": {},
   "source": [
    "This is not efficient. It would be better to use `dropzeros` directly. But, it seems that `dropzeros` does not support specifying a tolerance."
   ]
  },
  {
   "cell_type": "markdown",
   "metadata": {},
   "source": [
    "### More details"
   ]
  },
  {
   "cell_type": "markdown",
   "metadata": {},
   "source": [
    "The type of the numbers is preserved.  For instance, complex numbers\n",
    "with imaginary part near zero are not replaced with real numbers.\n",
    "\n",
    "`zchop` works on complex and rational numbers, arrays, and some other structures.\n",
    "`zchop` descends into structures, chopping numbers, and acting as the\n",
    "the identity on anything that can't be sensibly compared to `eps`."
   ]
  },
  {
   "cell_type": "code",
   "execution_count": 9,
   "metadata": {
    "collapsed": false
   },
   "outputs": [
    {
     "data": {
      "text/plain": [
       "2-element Array{Any,1}:\n",
       " Any[0.0, \"dog\", 0.0, 0.0+1.0im, 0//1]\n",
       " [2.0 4.0; 3.0 0.0]                   "
      ]
     },
     "execution_count": 9,
     "metadata": {},
     "output_type": "execute_result"
    }
   ],
   "source": [
    "a = Any[[1e-15, \"dog\", (BigFloat(10.0))^-15, complex(1e-15,1), 1 // 10^15],\n",
    "         [[2,3] [4,1e-15]] ];\n",
    "\n",
    "zchop(a)"
   ]
  },
  {
   "cell_type": "markdown",
   "metadata": {},
   "source": [
    "#### Version and Date"
   ]
  },
  {
   "cell_type": "code",
   "execution_count": 10,
   "metadata": {
    "collapsed": false
   },
   "outputs": [
    {
     "data": {
      "text/plain": [
       "v\"0.7.0-rc1.15\""
      ]
     },
     "execution_count": 10,
     "metadata": {},
     "output_type": "execute_result"
    }
   ],
   "source": [
    "VERSION"
   ]
  },
  {
   "cell_type": "code",
   "execution_count": 11,
   "metadata": {
    "collapsed": false
   },
   "outputs": [
    {
     "data": {
      "text/plain": [
       "2018-08-03T11:03:32.339"
      ]
     },
     "execution_count": 11,
     "metadata": {},
     "output_type": "execute_result"
    }
   ],
   "source": [
    "using Dates\n",
    "Dates.now()"
   ]
  }
 ],
 "metadata": {
  "kernelspec": {
   "display_name": "Julia 0.7.0-beta2",
   "language": "julia",
   "name": "julia-0.7"
  },
  "language_info": {
   "file_extension": ".jl",
   "mimetype": "application/julia",
   "name": "julia",
   "version": "0.7.0"
  }
 },
 "nbformat": 4,
 "nbformat_minor": 1
}
